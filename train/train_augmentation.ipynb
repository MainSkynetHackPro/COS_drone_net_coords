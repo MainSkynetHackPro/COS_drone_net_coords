{
 "cells": [
  {
   "cell_type": "code",
   "execution_count": 5,
   "metadata": {},
   "outputs": [],
   "source": [
    "import json\n",
    "\n",
    "data = []\n",
    "with open('data_4/train_eq.json') as f:\n",
    "    data = json.loads(f.read())"
   ]
  },
  {
   "cell_type": "code",
   "execution_count": 13,
   "metadata": {},
   "outputs": [
    {
     "data": {
      "text/plain": [
       "'-'"
      ]
     },
     "execution_count": 13,
     "metadata": {},
     "output_type": "execute_result"
    }
   ],
   "source": [
    "data = {'kek': 'lol'}\n",
    "data['p'] if 'p' in data else '-'"
   ]
  },
  {
   "cell_type": "code",
   "execution_count": 136,
   "metadata": {},
   "outputs": [
    {
     "data": {
      "text/plain": [
       "'asdasdasdasd'"
      ]
     },
     "execution_count": 136,
     "metadata": {},
     "output_type": "execute_result"
    }
   ],
   "source": [
    "from datetime import datetime\n",
    "datetime.now().strftime('%d_%H%M%S')\n",
    "'asdasd' + 'asdasd'"
   ]
  },
  {
   "cell_type": "code",
   "execution_count": 6,
   "metadata": {},
   "outputs": [],
   "source": [
    "import copy\n",
    "\n",
    "new_items = []\n",
    "\n",
    "for item in data:\n",
    "    augmentated_item = copy.deepcopy(item)\n",
    "    augmentated_item['data'] = list(reversed(augmentated_item['data']))\n",
    "    new_items.append(augmentated_item)"
   ]
  },
  {
   "cell_type": "code",
   "execution_count": 109,
   "metadata": {},
   "outputs": [],
   "source": [
    "import random\n",
    "\n",
    "def noise_coords(coords):\n",
    "    return {\n",
    "        'x': coords['x'] + random.randrange(0, 5) * 0.001,\n",
    "        'y': coords['y'] + random.randrange(0, 5) * 0.001,\n",
    "        'w': coords['w'] + random.randrange(0, 5) * 0.001,\n",
    "        'h': coords['h'] + random.randrange(0, 5) * 0.001\n",
    "    }\n",
    "\n",
    "for item in data:\n",
    "    noised = copy.deepcopy(item)\n",
    "    noised['data'] = [noise_coords(i) for i in noised['data']]\n",
    "    \n",
    "    new_items.append(noised)"
   ]
  },
  {
   "cell_type": "code",
   "execution_count": 7,
   "metadata": {},
   "outputs": [],
   "source": [
    "data = data + new_items"
   ]
  },
  {
   "cell_type": "code",
   "execution_count": 9,
   "metadata": {},
   "outputs": [],
   "source": [
    "with open('data_4/train_eq_aug.json', 'w') as f:\n",
    "    f.write(json.dumps(data))"
   ]
  }
 ],
 "metadata": {
  "kernelspec": {
   "display_name": "Python 3",
   "language": "python",
   "name": "python3"
  },
  "language_info": {
   "codemirror_mode": {
    "name": "ipython",
    "version": 3
   },
   "file_extension": ".py",
   "mimetype": "text/x-python",
   "name": "python",
   "nbconvert_exporter": "python",
   "pygments_lexer": "ipython3",
   "version": "3.6.3"
  }
 },
 "nbformat": 4,
 "nbformat_minor": 2
}
