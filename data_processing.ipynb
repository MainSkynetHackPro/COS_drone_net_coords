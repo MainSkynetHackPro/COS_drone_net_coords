{
 "cells": [
  {
   "cell_type": "code",
   "execution_count": 2,
   "metadata": {},
   "outputs": [],
   "source": [
    "import os\n",
    "import glob\n",
    "import csv\n",
    "\n",
    "folders = glob.glob('dataset_fat/*', recursive=True)"
   ]
  },
  {
   "cell_type": "code",
   "execution_count": 10,
   "metadata": {},
   "outputs": [],
   "source": [
    "track_id = 0\n",
    "with open('data_raw/tracks_fat.csv', 'w') as csvfile:\n",
    "    writer = csv.DictWriter(csvfile, ['class', 'label', 'id', 'x', 'y', 'w', 'h'])\n",
    "    writer.writeheader()\n",
    "    \n",
    "    for folder in folders:\n",
    "        with open(f'{folder}/pos.txt') as positions:\n",
    "            pos_list = list(map(lambda x: int(x.replace('\\n', '')) ,positions.readlines()))\n",
    "            track_files = glob.glob(f'{folder}/*/track.txt')\n",
    "            for track in track_files:\n",
    "                track_num = track.split('/')[2]\n",
    "                is_drone = int(track_num) in pos_list\n",
    "                \n",
    "                with open(track, 'r') as track_f:\n",
    "                    for track_row in track_f.readlines():\n",
    "                        track_row = track_row.replace('\\n', '').split(' ')\n",
    "                        track_data = {\n",
    "                            'id': track_id,\n",
    "                            'label': 'drone' if is_drone else 'bg',\n",
    "                            'class': '1' if is_drone else '2',\n",
    "                            'x': track_row[0],\n",
    "                            'y': track_row[1],\n",
    "                            'w': track_row[2],\n",
    "                            'h': track_row[3]\n",
    "                        }\n",
    "                        writer.writerow(track_data)\n",
    "                track_id += 1\n",
    "                \n",
    "                        \n",
    "            \n"
   ]
  }
 ],
 "metadata": {
  "kernelspec": {
   "display_name": "Python 3",
   "language": "python",
   "name": "python3"
  },
  "language_info": {
   "codemirror_mode": {
    "name": "ipython",
    "version": 3
   },
   "file_extension": ".py",
   "mimetype": "text/x-python",
   "name": "python",
   "nbconvert_exporter": "python",
   "pygments_lexer": "ipython3",
   "version": "3.6.3"
  }
 },
 "nbformat": 4,
 "nbformat_minor": 2
}
