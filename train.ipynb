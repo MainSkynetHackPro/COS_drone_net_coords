{
 "cells": [
  {
   "cell_type": "code",
   "execution_count": 1,
   "metadata": {},
   "outputs": [],
   "source": [
    "import torch\n",
    "from sklearn import metrics\n",
    "from tabulate import tabulate\n",
    "from torch.utils.data import DataLoader\n",
    "from tqdm import tqdm\n",
    "\n",
    "from model import TrackModel\n",
    "from utils.dataset import JSONTrackDataset"
   ]
  },
  {
   "cell_type": "code",
   "execution_count": 2,
   "metadata": {},
   "outputs": [
    {
     "name": "stdout",
     "output_type": "stream",
     "text": [
      "Using device: cpu\n",
      "\n"
     ]
    }
   ],
   "source": [
    "torch.manual_seed(0)\n",
    "torch.backends.cudnn.deterministic = True\n",
    "torch.backends.cudnn.benchmark = False\n",
    "\n",
    "device = torch.device('cuda' if torch.cuda.is_available() else 'cpu')\n",
    "device = torch.device('cpu')\n",
    "print('Using device:', device)\n",
    "print()\n",
    "\n",
    "# Additional Info when using cuda\n",
    "if device.type == 'cuda':\n",
    "    print(torch.cuda.get_device_name(0))\n",
    "    print('Memory Usage:')\n",
    "    print('Allocated:', round(torch.cuda.memory_allocated(0) / 1024 ** 3, 1), 'GB')\n",
    "    print('Cached:   ', round(torch.cuda.memory_cached(0) / 1024 ** 3, 1), 'GB')"
   ]
  },
  {
   "cell_type": "code",
   "execution_count": 3,
   "metadata": {},
   "outputs": [],
   "source": [
    "train_dataset = JSONTrackDataset('data/train.json')\n",
    "train_dataloader = DataLoader(train_dataset, shuffle=True, batch_size=50, num_workers=7, pin_memory=True,\n",
    "                              drop_last=True)\n",
    "\n",
    "val_dataset = JSONTrackDataset('data/val.json')\n",
    "val_dataloader = DataLoader(val_dataset, shuffle=True, batch_size=50, num_workers=7, pin_memory=True, drop_last=True)\n",
    "\n",
    "test_dataset = JSONTrackDataset('data/test.json')\n",
    "test_dataloader = DataLoader(test_dataset, shuffle=True, batch_size=50, num_workers=7, pin_memory=True, drop_last=True)"
   ]
  },
  {
   "cell_type": "code",
   "execution_count": 4,
   "metadata": {},
   "outputs": [],
   "source": [
    "model = TrackModel(5, 4).to(device)\n",
    "EPOCHS_COUNT = 20\n",
    "\n",
    "optimizer = torch.optim.SGD(model.parameters(), lr=1e-4)\n",
    "criterion = torch.nn.MSELoss(reduction='mean').to(device)"
   ]
  },
  {
   "cell_type": "code",
   "execution_count": 5,
   "metadata": {},
   "outputs": [
    {
     "name": "stderr",
     "output_type": "stream",
     "text": [
      "Epoch 0/19: 100%|██████████████████████████| 1126/1126 [00:02<00:00, 429.80it/s]\n",
      "Val:   0%|                                              | 0/375 [00:00<?, ?it/s]"
     ]
    },
    {
     "name": "stdout",
     "output_type": "stream",
     "text": [
      "\n",
      "| Stage   |   Loss |   Accuracy |    Recall |   Precision |        F1 |   ROC-AUC |\n",
      "|---------+--------+------------+-----------+-------------+-----------+-----------|\n",
      "| Train   | 960.28 |  0.0225933 | 0.0225933 |   0.0225933 | 0.0225933 |  0.499913 |\n",
      "\n"
     ]
    },
    {
     "name": "stderr",
     "output_type": "stream",
     "text": [
      "Val: 100%|███████████████████████████████████| 375/375 [00:00<00:00, 552.22it/s]\n",
      "Epoch 1/19:   0%|                                      | 0/1126 [00:00<?, ?it/s]"
     ]
    },
    {
     "name": "stdout",
     "output_type": "stream",
     "text": [
      "\n",
      "| Stage      |     Loss |   Accuracy |   Recall |   Precision |      F1 |   ROC-AUC |\n",
      "|------------+----------+------------+----------+-------------+---------+-----------|\n",
      "| Validation | 0.170668 |    0.02192 |  0.02192 |     0.02192 | 0.02192 |       0.5 |\n",
      "\n"
     ]
    },
    {
     "name": "stderr",
     "output_type": "stream",
     "text": [
      "Epoch 1/19: 100%|██████████████████████████| 1126/1126 [00:01<00:00, 592.37it/s]\n",
      "Val:   0%|                                              | 0/375 [00:00<?, ?it/s]"
     ]
    },
    {
     "name": "stdout",
     "output_type": "stream",
     "text": [
      "\n",
      "| Stage   |     Loss |   Accuracy |    Recall |   Precision |        F1 |   ROC-AUC |\n",
      "|---------+----------+------------+-----------+-------------+-----------+-----------|\n",
      "| Train   | 0.461187 |  0.0211723 | 0.0211723 |   0.0211723 | 0.0211723 |       0.5 |\n",
      "\n"
     ]
    },
    {
     "name": "stderr",
     "output_type": "stream",
     "text": [
      "Val: 100%|███████████████████████████████████| 375/375 [00:00<00:00, 700.00it/s]\n",
      "Epoch 2/19:   0%|                                      | 0/1126 [00:00<?, ?it/s]"
     ]
    },
    {
     "name": "stdout",
     "output_type": "stream",
     "text": [
      "\n",
      "| Stage      |     Loss |   Accuracy |    Recall |   Precision |        F1 |   ROC-AUC |\n",
      "|------------+----------+------------+-----------+-------------+-----------+-----------|\n",
      "| Validation | 0.137668 |  0.0218133 | 0.0218133 |   0.0218133 | 0.0218133 |       0.5 |\n",
      "\n"
     ]
    },
    {
     "name": "stderr",
     "output_type": "stream",
     "text": [
      "Epoch 2/19: 100%|██████████████████████████| 1126/1126 [00:02<00:00, 520.77it/s]\n",
      "Val:   0%|                                              | 0/375 [00:00<?, ?it/s]"
     ]
    },
    {
     "name": "stdout",
     "output_type": "stream",
     "text": [
      "\n",
      "| Stage   |     Loss |   Accuracy |   Recall |   Precision |       F1 |   ROC-AUC |\n",
      "|---------+----------+------------+----------+-------------+----------+-----------|\n",
      "| Train   | 0.372366 |   0.449876 | 0.449876 |    0.449876 | 0.449876 |   0.51092 |\n",
      "\n"
     ]
    },
    {
     "name": "stderr",
     "output_type": "stream",
     "text": [
      "Val: 100%|███████████████████████████████████| 375/375 [00:00<00:00, 554.37it/s]\n",
      "Epoch 3/19:   0%|                                      | 0/1126 [00:00<?, ?it/s]"
     ]
    },
    {
     "name": "stdout",
     "output_type": "stream",
     "text": [
      "\n",
      "| Stage      |     Loss |   Accuracy |   Recall |   Precision |       F1 |   ROC-AUC |\n",
      "|------------+----------+------------+----------+-------------+----------+-----------|\n",
      "| Validation | 0.111319 |   0.978133 | 0.978133 |    0.978133 | 0.978133 |       0.5 |\n",
      "\n"
     ]
    },
    {
     "name": "stderr",
     "output_type": "stream",
     "text": [
      "Epoch 3/19: 100%|██████████████████████████| 1126/1126 [00:02<00:00, 550.78it/s]\n",
      "Val:   0%|                                              | 0/375 [00:00<?, ?it/s]"
     ]
    },
    {
     "name": "stdout",
     "output_type": "stream",
     "text": [
      "\n",
      "| Stage   |     Loss |   Accuracy |   Recall |   Precision |       F1 |   ROC-AUC |\n",
      "|---------+----------+------------+----------+-------------+----------+-----------|\n",
      "| Train   | 0.301456 |   0.978828 | 0.978828 |    0.978828 | 0.978828 |       0.5 |\n",
      "\n"
     ]
    },
    {
     "name": "stderr",
     "output_type": "stream",
     "text": [
      "Val: 100%|███████████████████████████████████| 375/375 [00:00<00:00, 589.30it/s]\n",
      "Epoch 4/19:   0%|                                      | 0/1126 [00:00<?, ?it/s]"
     ]
    },
    {
     "name": "stdout",
     "output_type": "stream",
     "text": [
      "\n",
      "| Stage      |      Loss |   Accuracy |   Recall |   Precision |      F1 |   ROC-AUC |\n",
      "|------------+-----------+------------+----------+-------------+---------+-----------|\n",
      "| Validation | 0.0902909 |    0.97808 |  0.97808 |     0.97808 | 0.97808 |       0.5 |\n",
      "\n"
     ]
    },
    {
     "name": "stderr",
     "output_type": "stream",
     "text": [
      "Epoch 4/19: 100%|██████████████████████████| 1126/1126 [00:01<00:00, 580.49it/s]\n",
      "Val:   0%|                                              | 0/375 [00:00<?, ?it/s]"
     ]
    },
    {
     "name": "stdout",
     "output_type": "stream",
     "text": [
      "\n",
      "| Stage   |     Loss |   Accuracy |   Recall |   Precision |       F1 |   ROC-AUC |\n",
      "|---------+----------+------------+----------+-------------+----------+-----------|\n",
      "| Train   | 0.244846 |   0.978828 | 0.978828 |    0.978828 | 0.978828 |       0.5 |\n",
      "\n"
     ]
    },
    {
     "name": "stderr",
     "output_type": "stream",
     "text": [
      "Val: 100%|███████████████████████████████████| 375/375 [00:00<00:00, 525.07it/s]\n",
      "Epoch 5/19:   0%|                                      | 0/1126 [00:00<?, ?it/s]"
     ]
    },
    {
     "name": "stdout",
     "output_type": "stream",
     "text": [
      "\n",
      "| Stage      |      Loss |   Accuracy |   Recall |   Precision |      F1 |   ROC-AUC |\n",
      "|------------+-----------+------------+----------+-------------+---------+-----------|\n",
      "| Validation | 0.0735033 |    0.97808 |  0.97808 |     0.97808 | 0.97808 |       0.5 |\n",
      "\n"
     ]
    },
    {
     "name": "stderr",
     "output_type": "stream",
     "text": [
      "Epoch 5/19: 100%|██████████████████████████| 1126/1126 [00:01<00:00, 586.11it/s]\n",
      "Val:   0%|                                              | 0/375 [00:00<?, ?it/s]"
     ]
    },
    {
     "name": "stdout",
     "output_type": "stream",
     "text": [
      "\n",
      "| Stage   |     Loss |   Accuracy |   Recall |   Precision |       F1 |   ROC-AUC |\n",
      "|---------+----------+------------+----------+-------------+----------+-----------|\n",
      "| Train   | 0.199651 |   0.978828 | 0.978828 |    0.978828 | 0.978828 |       0.5 |\n",
      "\n"
     ]
    },
    {
     "name": "stderr",
     "output_type": "stream",
     "text": [
      "Val: 100%|███████████████████████████████████| 375/375 [00:00<00:00, 685.00it/s]\n",
      "Epoch 6/19:   0%|                                      | 0/1126 [00:00<?, ?it/s]"
     ]
    },
    {
     "name": "stdout",
     "output_type": "stream",
     "text": [
      "\n",
      "| Stage      |      Loss |   Accuracy |   Recall |   Precision |      F1 |   ROC-AUC |\n",
      "|------------+-----------+------------+----------+-------------+---------+-----------|\n",
      "| Validation | 0.0601044 |    0.97808 |  0.97808 |     0.97808 | 0.97808 |       0.5 |\n",
      "\n"
     ]
    },
    {
     "name": "stderr",
     "output_type": "stream",
     "text": [
      "Epoch 6/19: 100%|██████████████████████████| 1126/1126 [00:02<00:00, 517.67it/s]\n",
      "Val:   0%|                                              | 0/375 [00:00<?, ?it/s]"
     ]
    },
    {
     "name": "stdout",
     "output_type": "stream",
     "text": [
      "\n",
      "| Stage   |     Loss |   Accuracy |   Recall |   Precision |       F1 |   ROC-AUC |\n",
      "|---------+----------+------------+----------+-------------+----------+-----------|\n",
      "| Train   | 0.163571 |   0.978828 | 0.978828 |    0.978828 | 0.978828 |       0.5 |\n",
      "\n"
     ]
    },
    {
     "name": "stderr",
     "output_type": "stream",
     "text": [
      "Val: 100%|███████████████████████████████████| 375/375 [00:00<00:00, 440.54it/s]\n",
      "Epoch 7/19:   0%|                                      | 0/1126 [00:00<?, ?it/s]"
     ]
    },
    {
     "name": "stdout",
     "output_type": "stream",
     "text": [
      "\n",
      "| Stage      |      Loss |   Accuracy |   Recall |   Precision |      F1 |   ROC-AUC |\n",
      "|------------+-----------+------------+----------+-------------+---------+-----------|\n",
      "| Validation | 0.0494087 |    0.97808 |  0.97808 |     0.97808 | 0.97808 |       0.5 |\n",
      "\n"
     ]
    },
    {
     "name": "stderr",
     "output_type": "stream",
     "text": [
      "Epoch 7/19: 100%|██████████████████████████| 1126/1126 [00:02<00:00, 524.02it/s]\n",
      "Val:   0%|                                              | 0/375 [00:00<?, ?it/s]"
     ]
    },
    {
     "name": "stdout",
     "output_type": "stream",
     "text": [
      "\n",
      "| Stage   |     Loss |   Accuracy |   Recall |   Precision |       F1 |   ROC-AUC |\n",
      "|---------+----------+------------+----------+-------------+----------+-----------|\n",
      "| Train   | 0.134758 |   0.978845 | 0.978845 |    0.978845 | 0.978845 |       0.5 |\n",
      "\n"
     ]
    },
    {
     "name": "stderr",
     "output_type": "stream",
     "text": [
      "Val: 100%|███████████████████████████████████| 375/375 [00:00<00:00, 650.22it/s]\n",
      "Epoch 8/19:   0%|                                      | 0/1126 [00:00<?, ?it/s]"
     ]
    },
    {
     "name": "stdout",
     "output_type": "stream",
     "text": [
      "\n",
      "| Stage      |      Loss |   Accuracy |   Recall |   Precision |      F1 |   ROC-AUC |\n",
      "|------------+-----------+------------+----------+-------------+---------+-----------|\n",
      "| Validation | 0.0408715 |    0.97808 |  0.97808 |     0.97808 | 0.97808 |       0.5 |\n",
      "\n"
     ]
    },
    {
     "name": "stderr",
     "output_type": "stream",
     "text": [
      "Epoch 8/19: 100%|██████████████████████████| 1126/1126 [00:02<00:00, 529.74it/s]\n",
      "Val:   0%|                                              | 0/375 [00:00<?, ?it/s]"
     ]
    },
    {
     "name": "stdout",
     "output_type": "stream",
     "text": [
      "\n",
      "| Stage   |    Loss |   Accuracy |   Recall |   Precision |       F1 |   ROC-AUC |\n",
      "|---------+---------+------------+----------+-------------+----------+-----------|\n",
      "| Train   | 0.11176 |   0.978845 | 0.978845 |    0.978845 | 0.978845 |       0.5 |\n",
      "\n"
     ]
    },
    {
     "name": "stderr",
     "output_type": "stream",
     "text": [
      "Val: 100%|███████████████████████████████████| 375/375 [00:00<00:00, 651.88it/s]\n",
      "Epoch 9/19:   0%|                                      | 0/1126 [00:00<?, ?it/s]"
     ]
    },
    {
     "name": "stdout",
     "output_type": "stream",
     "text": [
      "\n",
      "| Stage      |      Loss |   Accuracy |   Recall |   Precision |       F1 |   ROC-AUC |\n",
      "|------------+-----------+------------+----------+-------------+----------+-----------|\n",
      "| Validation | 0.0340482 |   0.978133 | 0.978133 |    0.978133 | 0.978133 |       0.5 |\n",
      "\n"
     ]
    },
    {
     "name": "stderr",
     "output_type": "stream",
     "text": [
      "Epoch 9/19: 100%|██████████████████████████| 1126/1126 [00:02<00:00, 552.32it/s]\n",
      "Val:   0%|                                              | 0/375 [00:00<?, ?it/s]"
     ]
    },
    {
     "name": "stdout",
     "output_type": "stream",
     "text": [
      "\n",
      "| Stage   |      Loss |   Accuracy |   Recall |   Precision |       F1 |   ROC-AUC |\n",
      "|---------+-----------+------------+----------+-------------+----------+-----------|\n",
      "| Train   | 0.0934089 |   0.978828 | 0.978828 |    0.978828 | 0.978828 |       0.5 |\n",
      "\n"
     ]
    },
    {
     "name": "stderr",
     "output_type": "stream",
     "text": [
      "Val: 100%|███████████████████████████████████| 375/375 [00:00<00:00, 646.60it/s]\n",
      "Epoch 10/19:   0%|                                     | 0/1126 [00:00<?, ?it/s]"
     ]
    },
    {
     "name": "stdout",
     "output_type": "stream",
     "text": [
      "\n",
      "| Stage      |      Loss |   Accuracy |   Recall |   Precision |       F1 |   ROC-AUC |\n",
      "|------------+-----------+------------+----------+-------------+----------+-----------|\n",
      "| Validation | 0.0286086 |   0.978133 | 0.978133 |    0.978133 | 0.978133 |       0.5 |\n",
      "\n"
     ]
    },
    {
     "name": "stderr",
     "output_type": "stream",
     "text": [
      "Epoch 10/19: 100%|█████████████████████████| 1126/1126 [00:02<00:00, 551.71it/s]\n",
      "Val:   0%|                                              | 0/375 [00:00<?, ?it/s]"
     ]
    },
    {
     "name": "stdout",
     "output_type": "stream",
     "text": [
      "\n",
      "| Stage   |      Loss |   Accuracy |   Recall |   Precision |       F1 |   ROC-AUC |\n",
      "|---------+-----------+------------+----------+-------------+----------+-----------|\n",
      "| Train   | 0.0787521 |   0.978828 | 0.978828 |    0.978828 | 0.978828 |       0.5 |\n",
      "\n"
     ]
    },
    {
     "name": "stderr",
     "output_type": "stream",
     "text": [
      "Val: 100%|███████████████████████████████████| 375/375 [00:00<00:00, 616.83it/s]\n",
      "Epoch 11/19:   0%|                                     | 0/1126 [00:00<?, ?it/s]"
     ]
    },
    {
     "name": "stdout",
     "output_type": "stream",
     "text": [
      "\n",
      "| Stage      |      Loss |   Accuracy |   Recall |   Precision |       F1 |   ROC-AUC |\n",
      "|------------+-----------+------------+----------+-------------+----------+-----------|\n",
      "| Validation | 0.0242671 |   0.978133 | 0.978133 |    0.978133 | 0.978133 |       0.5 |\n",
      "\n"
     ]
    },
    {
     "name": "stderr",
     "output_type": "stream",
     "text": [
      "Epoch 11/19: 100%|█████████████████████████| 1126/1126 [00:02<00:00, 555.25it/s]\n",
      "Val:   0%|                                              | 0/375 [00:00<?, ?it/s]"
     ]
    },
    {
     "name": "stdout",
     "output_type": "stream",
     "text": [
      "\n",
      "| Stage   |      Loss |   Accuracy |   Recall |   Precision |       F1 |   ROC-AUC |\n",
      "|---------+-----------+------------+----------+-------------+----------+-----------|\n",
      "| Train   | 0.0670509 |   0.978828 | 0.978828 |    0.978828 | 0.978828 |       0.5 |\n",
      "\n"
     ]
    },
    {
     "name": "stderr",
     "output_type": "stream",
     "text": [
      "Val: 100%|███████████████████████████████████| 375/375 [00:00<00:00, 688.08it/s]\n",
      "Epoch 12/19:   0%|                                     | 0/1126 [00:00<?, ?it/s]"
     ]
    },
    {
     "name": "stdout",
     "output_type": "stream",
     "text": [
      "\n",
      "| Stage      |      Loss |   Accuracy |   Recall |   Precision |      F1 |   ROC-AUC |\n",
      "|------------+-----------+------------+----------+-------------+---------+-----------|\n",
      "| Validation | 0.0208132 |    0.97808 |  0.97808 |     0.97808 | 0.97808 |       0.5 |\n",
      "\n"
     ]
    },
    {
     "name": "stderr",
     "output_type": "stream",
     "text": [
      "Epoch 12/19: 100%|█████████████████████████| 1126/1126 [00:01<00:00, 589.47it/s]\n",
      "Val:   0%|                                              | 0/375 [00:00<?, ?it/s]"
     ]
    },
    {
     "name": "stdout",
     "output_type": "stream",
     "text": [
      "\n",
      "| Stage   |      Loss |   Accuracy |   Recall |   Precision |       F1 |   ROC-AUC |\n",
      "|---------+-----------+------------+----------+-------------+----------+-----------|\n",
      "| Train   | 0.0576975 |   0.978845 | 0.978845 |    0.978845 | 0.978845 |       0.5 |\n",
      "\n"
     ]
    },
    {
     "name": "stderr",
     "output_type": "stream",
     "text": [
      "Val: 100%|███████████████████████████████████| 375/375 [00:00<00:00, 603.27it/s]\n",
      "Epoch 13/19:   0%|                                     | 0/1126 [00:00<?, ?it/s]"
     ]
    },
    {
     "name": "stdout",
     "output_type": "stream",
     "text": [
      "\n",
      "| Stage      |      Loss |   Accuracy |   Recall |   Precision |       F1 |   ROC-AUC |\n",
      "|------------+-----------+------------+----------+-------------+----------+-----------|\n",
      "| Validation | 0.0180361 |   0.978133 | 0.978133 |    0.978133 | 0.978133 |       0.5 |\n",
      "\n"
     ]
    },
    {
     "name": "stderr",
     "output_type": "stream",
     "text": [
      "Epoch 13/19: 100%|█████████████████████████| 1126/1126 [00:02<00:00, 521.62it/s]\n",
      "Val:   0%|                                              | 0/375 [00:00<?, ?it/s]"
     ]
    },
    {
     "name": "stdout",
     "output_type": "stream",
     "text": [
      "\n",
      "| Stage   |      Loss |   Accuracy |   Recall |   Precision |       F1 |   ROC-AUC |\n",
      "|---------+-----------+------------+----------+-------------+----------+-----------|\n",
      "| Train   | 0.0502259 |   0.978863 | 0.978863 |    0.978863 | 0.978863 |       0.5 |\n",
      "\n"
     ]
    },
    {
     "name": "stderr",
     "output_type": "stream",
     "text": [
      "Val: 100%|███████████████████████████████████| 375/375 [00:00<00:00, 682.88it/s]\n",
      "Epoch 14/19:   0%|                                     | 0/1126 [00:00<?, ?it/s]"
     ]
    },
    {
     "name": "stdout",
     "output_type": "stream",
     "text": [
      "\n",
      "| Stage      |      Loss |   Accuracy |   Recall |   Precision |       F1 |   ROC-AUC |\n",
      "|------------+-----------+------------+----------+-------------+----------+-----------|\n",
      "| Validation | 0.0158289 |   0.978133 | 0.978133 |    0.978133 | 0.978133 |       0.5 |\n",
      "\n"
     ]
    },
    {
     "name": "stderr",
     "output_type": "stream",
     "text": [
      "Epoch 14/19: 100%|█████████████████████████| 1126/1126 [00:01<00:00, 576.71it/s]\n",
      "Val:   0%|                                              | 0/375 [00:00<?, ?it/s]"
     ]
    },
    {
     "name": "stdout",
     "output_type": "stream",
     "text": [
      "\n",
      "| Stage   |      Loss |   Accuracy |   Recall |   Precision |       F1 |   ROC-AUC |\n",
      "|---------+-----------+------------+----------+-------------+----------+-----------|\n",
      "| Train   | 0.0442957 |   0.978828 | 0.978828 |    0.978828 | 0.978828 |       0.5 |\n",
      "\n"
     ]
    },
    {
     "name": "stderr",
     "output_type": "stream",
     "text": [
      "Val: 100%|███████████████████████████████████| 375/375 [00:00<00:00, 539.82it/s]\n",
      "Epoch 15/19:   0%|                                     | 0/1126 [00:00<?, ?it/s]"
     ]
    },
    {
     "name": "stdout",
     "output_type": "stream",
     "text": [
      "\n",
      "| Stage      |      Loss |   Accuracy |   Recall |   Precision |      F1 |   ROC-AUC |\n",
      "|------------+-----------+------------+----------+-------------+---------+-----------|\n",
      "| Validation | 0.0140803 |    0.97808 |  0.97808 |     0.97808 | 0.97808 |       0.5 |\n",
      "\n"
     ]
    },
    {
     "name": "stderr",
     "output_type": "stream",
     "text": [
      "Epoch 15/19: 100%|█████████████████████████| 1126/1126 [00:02<00:00, 520.58it/s]\n",
      "Val:   0%|                                              | 0/375 [00:00<?, ?it/s]"
     ]
    },
    {
     "name": "stdout",
     "output_type": "stream",
     "text": [
      "\n",
      "| Stage   |      Loss |   Accuracy |   Recall |   Precision |       F1 |   ROC-AUC |\n",
      "|---------+-----------+------------+----------+-------------+----------+-----------|\n",
      "| Train   | 0.0395289 |   0.978845 | 0.978845 |    0.978845 | 0.978845 |       0.5 |\n",
      "\n"
     ]
    },
    {
     "name": "stderr",
     "output_type": "stream",
     "text": [
      "Val: 100%|███████████████████████████████████| 375/375 [00:00<00:00, 601.52it/s]\n",
      "Epoch 16/19:   0%|                                     | 0/1126 [00:00<?, ?it/s]"
     ]
    },
    {
     "name": "stdout",
     "output_type": "stream",
     "text": [
      "\n",
      "| Stage      |     Loss |   Accuracy |   Recall |   Precision |      F1 |   ROC-AUC |\n",
      "|------------+----------+------------+----------+-------------+---------+-----------|\n",
      "| Validation | 0.012675 |    0.97808 |  0.97808 |     0.97808 | 0.97808 |       0.5 |\n",
      "\n"
     ]
    },
    {
     "name": "stderr",
     "output_type": "stream",
     "text": [
      "Epoch 16/19: 100%|█████████████████████████| 1126/1126 [00:01<00:00, 584.54it/s]\n",
      "Val:   0%|                                              | 0/375 [00:00<?, ?it/s]"
     ]
    },
    {
     "name": "stdout",
     "output_type": "stream",
     "text": [
      "\n",
      "| Stage   |      Loss |   Accuracy |   Recall |   Precision |       F1 |   ROC-AUC |\n",
      "|---------+-----------+------------+----------+-------------+----------+-----------|\n",
      "| Train   | 0.0357469 |   0.978828 | 0.978828 |    0.978828 | 0.978828 |       0.5 |\n",
      "\n"
     ]
    },
    {
     "name": "stderr",
     "output_type": "stream",
     "text": [
      "Val: 100%|███████████████████████████████████| 375/375 [00:00<00:00, 653.28it/s]\n",
      "Epoch 17/19:   0%|                                     | 0/1126 [00:00<?, ?it/s]"
     ]
    },
    {
     "name": "stdout",
     "output_type": "stream",
     "text": [
      "\n",
      "| Stage      |      Loss |   Accuracy |   Recall |   Precision |      F1 |   ROC-AUC |\n",
      "|------------+-----------+------------+----------+-------------+---------+-----------|\n",
      "| Validation | 0.0115539 |    0.97808 |  0.97808 |     0.97808 | 0.97808 |       0.5 |\n",
      "\n"
     ]
    },
    {
     "name": "stderr",
     "output_type": "stream",
     "text": [
      "Epoch 17/19: 100%|█████████████████████████| 1126/1126 [00:02<00:00, 518.61it/s]\n",
      "Val:   0%|                                              | 0/375 [00:00<?, ?it/s]"
     ]
    },
    {
     "name": "stdout",
     "output_type": "stream",
     "text": [
      "\n",
      "| Stage   |      Loss |   Accuracy |   Recall |   Precision |       F1 |   ROC-AUC |\n",
      "|---------+-----------+------------+----------+-------------+----------+-----------|\n",
      "| Train   | 0.0327174 |   0.978828 | 0.978828 |    0.978828 | 0.978828 |       0.5 |\n",
      "\n"
     ]
    },
    {
     "name": "stderr",
     "output_type": "stream",
     "text": [
      "Val: 100%|███████████████████████████████████| 375/375 [00:00<00:00, 637.82it/s]\n",
      "Epoch 18/19:   0%|                                     | 0/1126 [00:00<?, ?it/s]"
     ]
    },
    {
     "name": "stdout",
     "output_type": "stream",
     "text": [
      "\n",
      "| Stage      |      Loss |   Accuracy |   Recall |   Precision |       F1 |   ROC-AUC |\n",
      "|------------+-----------+------------+----------+-------------+----------+-----------|\n",
      "| Validation | 0.0106454 |   0.978133 | 0.978133 |    0.978133 | 0.978133 |       0.5 |\n",
      "\n"
     ]
    },
    {
     "name": "stderr",
     "output_type": "stream",
     "text": [
      "Epoch 18/19: 100%|█████████████████████████| 1126/1126 [00:01<00:00, 563.83it/s]\n",
      "Val:   0%|                                              | 0/375 [00:00<?, ?it/s]"
     ]
    },
    {
     "name": "stdout",
     "output_type": "stream",
     "text": [
      "\n",
      "| Stage   |      Loss |   Accuracy |   Recall |   Precision |       F1 |   ROC-AUC |\n",
      "|---------+-----------+------------+----------+-------------+----------+-----------|\n",
      "| Train   | 0.0302988 |   0.978828 | 0.978828 |    0.978828 | 0.978828 |       0.5 |\n",
      "\n"
     ]
    },
    {
     "name": "stderr",
     "output_type": "stream",
     "text": [
      "Val: 100%|███████████████████████████████████| 375/375 [00:00<00:00, 629.41it/s]\n",
      "Epoch 19/19:   0%|                                     | 0/1126 [00:00<?, ?it/s]"
     ]
    },
    {
     "name": "stdout",
     "output_type": "stream",
     "text": [
      "\n",
      "| Stage      |       Loss |   Accuracy |   Recall |   Precision |      F1 |   ROC-AUC |\n",
      "|------------+------------+------------+----------+-------------+---------+-----------|\n",
      "| Validation | 0.00994577 |    0.97808 |  0.97808 |     0.97808 | 0.97808 |       0.5 |\n",
      "\n"
     ]
    },
    {
     "name": "stderr",
     "output_type": "stream",
     "text": [
      "Epoch 19/19: 100%|█████████████████████████| 1126/1126 [00:01<00:00, 575.79it/s]\n",
      "Val:   0%|                                              | 0/375 [00:00<?, ?it/s]"
     ]
    },
    {
     "name": "stdout",
     "output_type": "stream",
     "text": [
      "\n",
      "| Stage   |      Loss |   Accuracy |   Recall |   Precision |       F1 |   ROC-AUC |\n",
      "|---------+-----------+------------+----------+-------------+----------+-----------|\n",
      "| Train   | 0.0283681 |   0.978828 | 0.978828 |    0.978828 | 0.978828 |       0.5 |\n",
      "\n"
     ]
    },
    {
     "name": "stderr",
     "output_type": "stream",
     "text": [
      "Val: 100%|███████████████████████████████████| 375/375 [00:00<00:00, 554.38it/s]\n"
     ]
    },
    {
     "name": "stdout",
     "output_type": "stream",
     "text": [
      "\n",
      "| Stage      |       Loss |   Accuracy |   Recall |   Precision |      F1 |   ROC-AUC |\n",
      "|------------+------------+------------+----------+-------------+---------+-----------|\n",
      "| Validation | 0.00937654 |    0.97808 |  0.97808 |     0.97808 | 0.97808 |       0.5 |\n",
      "\n"
     ]
    }
   ],
   "source": [
    "for epoch in range(EPOCHS_COUNT):\n",
    "    # training\n",
    "    loss_sum = 0\n",
    "    ep_preds = []\n",
    "    ep_labels = []\n",
    "    for data_row in tqdm(train_dataloader, desc='Epoch {}/{}'.format(epoch, EPOCHS_COUNT - 1), ncols=80):\n",
    "        data = data_row['data'].to(device)\n",
    "        label = data_row['label'].to(device)\n",
    "\n",
    "        optimizer.zero_grad()\n",
    "\n",
    "        y_pred = model(data)\n",
    "        loss = criterion(y_pred, label)\n",
    "        loss_sum += loss.item()\n",
    "\n",
    "        np_label = label.argmax(dim=1).data.numpy()\n",
    "        np_preds = y_pred.argmax(dim=1).data.numpy()\n",
    "\n",
    "        for i in np_label:\n",
    "            ep_labels.append(i)\n",
    "        for i in np_preds:\n",
    "            ep_preds.append(i)\n",
    "\n",
    "        loss.backward()\n",
    "        optimizer.step()\n",
    "\n",
    "    accuracy = metrics.accuracy_score(ep_labels, ep_preds)\n",
    "    recall = metrics.recall_score(ep_labels, ep_preds, average='micro')\n",
    "    precision = metrics.precision_score(ep_labels, ep_preds, average='micro')\n",
    "    f1 = metrics.f1_score(ep_labels, ep_preds, average='micro')\n",
    "    roc_auc = metrics.roc_auc_score(ep_labels, ep_preds, average='micro')\n",
    "\n",
    "    print('')\n",
    "    print(tabulate([\n",
    "        ['Train', loss_sum / len(train_dataloader), accuracy, recall, precision, f1, roc_auc]\n",
    "    ], headers=['Stage', 'Loss', 'Accuracy', 'Recall', 'Precision', 'F1', 'ROC-AUC'], tablefmt='orgtbl'))\n",
    "    print('')\n",
    "\n",
    "    # validation\n",
    "    loss_sum = 0\n",
    "    ep_preds = []\n",
    "    ep_labels = []\n",
    "    for val_row in tqdm(val_dataloader, desc='Val', ncols=80):\n",
    "        data = val_row['data'].to(device)\n",
    "        label = val_row['label'].to(device)\n",
    "\n",
    "        y_pred = model(data)\n",
    "\n",
    "        np_label = label.argmax(dim=1).data.numpy()\n",
    "        np_preds = y_pred.argmax(dim=1).data.numpy()\n",
    "\n",
    "        for i in np_label:\n",
    "            ep_labels.append(i)\n",
    "        for i in np_preds:\n",
    "            ep_preds.append(i)\n",
    "\n",
    "        loss = criterion(y_pred, label)\n",
    "        loss_sum += loss.item()\n",
    "\n",
    "    accuracy = metrics.accuracy_score(ep_labels, ep_preds)\n",
    "    recall = metrics.recall_score(ep_labels, ep_preds, average='micro')\n",
    "    precision = metrics.precision_score(ep_labels, ep_preds, average='micro')\n",
    "    f1 = metrics.f1_score(ep_labels, ep_preds, average='micro')\n",
    "    roc_auc = metrics.roc_auc_score(ep_labels, ep_preds, average='micro')\n",
    "\n",
    "    print('')\n",
    "    print(tabulate([\n",
    "        ['Validation', loss_sum / len(train_dataloader), accuracy, recall, precision, f1, roc_auc]\n",
    "    ], headers=['Stage', 'Loss', 'Accuracy', 'Recall', 'Precision', 'F1', 'ROC-AUC'], tablefmt='orgtbl'))\n",
    "    print('')"
   ]
  },
  {
   "cell_type": "code",
   "execution_count": 6,
   "metadata": {},
   "outputs": [
    {
     "name": "stderr",
     "output_type": "stream",
     "text": [
      "Test: 100%|██████████████████████████████████| 375/375 [00:00<00:00, 660.99it/s]\n"
     ]
    },
    {
     "name": "stdout",
     "output_type": "stream",
     "text": [
      "\n",
      "| Stage   |       Loss |   Accuracy |   Recall |   Precision |       F1 |   ROC-AUC |\n",
      "|---------+------------+------------+----------+-------------+----------+-----------|\n",
      "| Test    | 0.00895241 |   0.979627 | 0.979627 |    0.979627 | 0.979627 |       0.5 |\n",
      "\n"
     ]
    }
   ],
   "source": [
    "loss_sum = 0\n",
    "ep_preds = []\n",
    "ep_labels = []\n",
    "for data_row in tqdm(test_dataloader, desc='Test', ncols=80):\n",
    "    data = data_row['data'].to(device)\n",
    "    label = data_row['label'].to(device)\n",
    "\n",
    "    optimizer.zero_grad()\n",
    "\n",
    "    y_pred = model(data)\n",
    "    loss = criterion(y_pred, label)\n",
    "    loss_sum += loss.item()\n",
    "\n",
    "    np_label = label.argmax(dim=1).data.numpy()\n",
    "    np_preds = y_pred.argmax(dim=1).data.numpy()\n",
    "\n",
    "    for i in np_label:\n",
    "        ep_labels.append(i)\n",
    "    for i in np_preds:\n",
    "        ep_preds.append(i)\n",
    "\n",
    "accuracy = metrics.accuracy_score(ep_labels, ep_preds)\n",
    "recall = metrics.recall_score(ep_labels, ep_preds, average='micro')\n",
    "precision = metrics.precision_score(ep_labels, ep_preds, average='micro')\n",
    "f1 = metrics.f1_score(ep_labels, ep_preds, average='micro')\n",
    "roc_auc = metrics.roc_auc_score(ep_labels, ep_preds, average='micro')\n",
    "\n",
    "print('')\n",
    "print(tabulate([\n",
    "    ['Test', loss_sum / len(train_dataloader), accuracy, recall, precision, f1, roc_auc]\n",
    "], headers=['Stage', 'Loss', 'Accuracy', 'Recall', 'Precision', 'F1', 'ROC-AUC'], tablefmt='orgtbl'))\n",
    "print('')"
   ]
  }
 ],
 "metadata": {
  "kernelspec": {
   "display_name": "Python 3",
   "language": "python",
   "name": "python3"
  },
  "language_info": {
   "codemirror_mode": {
    "name": "ipython",
    "version": 3
   },
   "file_extension": ".py",
   "mimetype": "text/x-python",
   "name": "python",
   "nbconvert_exporter": "python",
   "pygments_lexer": "ipython3",
   "version": "3.6.3"
  }
 },
 "nbformat": 4,
 "nbformat_minor": 2
}
