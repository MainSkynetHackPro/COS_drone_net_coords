{
 "cells": [
  {
   "cell_type": "code",
   "execution_count": 34,
   "metadata": {},
   "outputs": [],
   "source": [
    "import json\n",
    "from matplotlib import pyplot as plt\n",
    "import copy\n",
    "import random\n",
    "%matplotlib inline\n",
    "\n",
    "\n",
    "DATASET_FILE = 'data_4/train.json'\n",
    "DATASET_FILE_EQUALIZED = 'data_4/val_eq_clear.json'"
   ]
  },
  {
   "cell_type": "code",
   "execution_count": 35,
   "metadata": {},
   "outputs": [
    {
     "data": {
      "text/plain": [
       "144983"
      ]
     },
     "execution_count": 35,
     "metadata": {},
     "output_type": "execute_result"
    }
   ],
   "source": [
    "with open(DATASET_FILE) as f:\n",
    "    data = json.loads(f.read())\n",
    "    \n",
    "len(data)"
   ]
  },
  {
   "cell_type": "code",
   "execution_count": 36,
   "metadata": {
    "scrolled": true
   },
   "outputs": [
    {
     "data": {
      "text/plain": [
       "34.0878509196515"
      ]
     },
     "execution_count": 36,
     "metadata": {},
     "output_type": "execute_result"
    }
   ],
   "source": [
    "drones = list(filter(lambda x: x['label'] == 'drone', data))\n",
    "bg = list(filter(lambda x:x['label'] == 'bg', data))\n",
    "\n",
    "drones_count = len(drones)\n",
    "bg_count = len(bg)\n",
    "bg_count / drones_count"
   ]
  },
  {
   "cell_type": "code",
   "execution_count": 23,
   "metadata": {},
   "outputs": [
    {
     "data": {
      "image/png": "[encoded data removed]",
      "text/plain": [
       "<Figure size 432x288 with 1 Axes>"
      ]
     },
     "metadata": {
      "needs_background": "light"
     },
     "output_type": "display_data"
    }
   ],
   "source": [
    "p = plt.bar(['drones', 'bg'], [drones_count, bg_count])"
   ]
  },
  {
   "cell_type": "code",
   "execution_count": 24,
   "metadata": {},
   "outputs": [
    {
     "data": {
      "image/png": "[encoded data removed]",
      "text/plain": [
       "<Figure size 432x288 with 1 Axes>"
      ]
     },
     "metadata": {
      "needs_background": "light"
     },
     "output_type": "display_data"
    }
   ],
   "source": [
    "new_data = []\n",
    "new_data += drones\n",
    "# bg = list(random.shuffle(bg))\n",
    "\n",
    "for i in range(drones_count):\n",
    "    new_data.append(bg[i])\n",
    "\n",
    "\n",
    "drones_new = list(filter(lambda x: x['label'] == 'drone', new_data))\n",
    "bg_new = list(filter(lambda x:x['label'] == 'bg', new_data))\n",
    "\n",
    "drones_count_new = len(drones_new)\n",
    "bg_count_new = len(bg_new)\n",
    "\n",
    "p = plt.bar(['drones', 'bg'], [drones_count_new, bg_count_new])"
   ]
  },
  {
   "cell_type": "code",
   "execution_count": 25,
   "metadata": {},
   "outputs": [],
   "source": [
    "with open(DATASET_FILE_EQUALIZED, 'w') as f:\n",
    "    f.write(json.dumps(new_data))"
   ]
  },
  {
   "cell_type": "code",
   "execution_count": 26,
   "metadata": {},
   "outputs": [
    {
     "data": {
      "text/plain": [
       "2884"
      ]
     },
     "execution_count": 26,
     "metadata": {},
     "output_type": "execute_result"
    }
   ],
   "source": [
    "with open(DATASET_FILE_EQUALIZED) as f:\n",
    "    data = json.loads(f.read())\n",
    "    \n",
    "len(data)"
   ]
  },
  {
   "cell_type": "code",
   "execution_count": 27,
   "metadata": {},
   "outputs": [],
   "source": [
    "drones = list(filter(lambda x: x['label'] == 'drone', data))\n",
    "bg = list(filter(lambda x:x['label'] == 'bg', data))\n",
    "\n",
    "drones_count = len(drones)\n",
    "bg_count = len(bg)"
   ]
  },
  {
   "cell_type": "code",
   "execution_count": 28,
   "metadata": {},
   "outputs": [
    {
     "data": {
      "image/png": "[encoded data removed]",
      "text/plain": [
       "<Figure size 432x288 with 1 Axes>"
      ]
     },
     "metadata": {
      "needs_background": "light"
     },
     "output_type": "display_data"
    }
   ],
   "source": [
    "p = plt.bar(['drones', 'bg'], [drones_count, bg_count])"
   ]
  }
 ],
 "metadata": {
  "kernelspec": {
   "display_name": "Python 3",
   "language": "python",
   "name": "python3"
  },
  "language_info": {
   "codemirror_mode": {
    "name": "ipython",
    "version": 3
   },
   "file_extension": ".py",
   "mimetype": "text/x-python",
   "name": "python",
   "nbconvert_exporter": "python",
   "pygments_lexer": "ipython3",
   "version": "3.6.3"
  }
 },
 "nbformat": 4,
 "nbformat_minor": 2
}
